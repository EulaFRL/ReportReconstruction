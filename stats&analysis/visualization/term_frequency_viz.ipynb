{
 "cells": [
  {
   "cell_type": "code",
   "execution_count": null,
   "metadata": {},
   "outputs": [],
   "source": [
    "import matplotlib as plt\n",
    "import pandas as pd"
   ]
  },
  {
   "cell_type": "code",
   "execution_count": null,
   "metadata": {},
   "outputs": [],
   "source": [
    "'''\n",
    "    STRUCTURED GENERAL Data viz:\n",
    "    1. term frequency\n",
    "    2. term clustering\n",
    "    \n",
    "    Input files:\n",
    "    structured_general_classification.csv: \n",
    "        General Attribute ### Matched Medical Attributes ### Accuracy ### Label\n",
    "    \n",
    "'''"
   ]
  },
  {
   "cell_type": "code",
   "execution_count": null,
   "metadata": {},
   "outputs": [],
   "source": []
  }
 ],
 "metadata": {
  "language_info": {
   "name": "python"
  }
 },
 "nbformat": 4,
 "nbformat_minor": 2
}
